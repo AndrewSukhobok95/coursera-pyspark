{
  "cells": [
    {
      "cell_type": "markdown",
      "metadata": {
        "id": "Th3syqr-trsS"
      },
      "source": [
        "# Explore Stock Prices using Spark SQL"
      ]
    },
    {
      "cell_type": "code",
      "source": [
        "!pip install pyspark"
      ],
      "metadata": {
        "colab": {
          "base_uri": "https://localhost:8080/"
        },
        "id": "y_6vwk_TtstI",
        "outputId": "b3909755-eef6-460d-e866-6da336b72148"
      },
      "execution_count": 1,
      "outputs": [
        {
          "output_type": "stream",
          "name": "stdout",
          "text": [
            "Collecting pyspark\n",
            "  Downloading pyspark-3.2.0.tar.gz (281.3 MB)\n",
            "\u001b[K     |████████████████████████████████| 281.3 MB 33 kB/s \n",
            "\u001b[?25hCollecting py4j==0.10.9.2\n",
            "  Downloading py4j-0.10.9.2-py2.py3-none-any.whl (198 kB)\n",
            "\u001b[K     |████████████████████████████████| 198 kB 61.5 MB/s \n",
            "\u001b[?25hBuilding wheels for collected packages: pyspark\n",
            "  Building wheel for pyspark (setup.py) ... \u001b[?25l\u001b[?25hdone\n",
            "  Created wheel for pyspark: filename=pyspark-3.2.0-py2.py3-none-any.whl size=281805912 sha256=e94e1ccfd46c4f8587d5e85ad2e8593a3de8de6f9b5a11131914f8bff228c9b6\n",
            "  Stored in directory: /root/.cache/pip/wheels/0b/de/d2/9be5d59d7331c6c2a7c1b6d1a4f463ce107332b1ecd4e80718\n",
            "Successfully built pyspark\n",
            "Installing collected packages: py4j, pyspark\n",
            "Successfully installed py4j-0.10.9.2 pyspark-3.2.0\n"
          ]
        }
      ]
    },
    {
      "cell_type": "code",
      "source": [
        "from google.colab import drive\n",
        "drive.mount('/content/drive')"
      ],
      "metadata": {
        "colab": {
          "base_uri": "https://localhost:8080/"
        },
        "id": "CeA8T7Cqtzs9",
        "outputId": "6226b165-5010-47e2-b1a9-b659feefaa74"
      },
      "execution_count": 2,
      "outputs": [
        {
          "output_type": "stream",
          "name": "stdout",
          "text": [
            "Mounted at /content/drive\n"
          ]
        }
      ]
    },
    {
      "cell_type": "markdown",
      "metadata": {
        "id": "vjJzvGINtrsW"
      },
      "source": [
        "## The Spark application and Spark Context\n",
        "\n",
        "<img src=\"https://spark.apache.org/docs/latest/img/cluster-overview.png\" width=500>"
      ]
    },
    {
      "cell_type": "code",
      "execution_count": 3,
      "metadata": {
        "id": "P8tTuBLRtrsW"
      },
      "outputs": [],
      "source": [
        "from pyspark import SparkContext\n",
        "sc = SparkContext.getOrCreate()"
      ]
    },
    {
      "cell_type": "code",
      "execution_count": 4,
      "metadata": {
        "colab": {
          "base_uri": "https://localhost:8080/"
        },
        "id": "sSTLDcz8trsX",
        "outputId": "687afbd2-274a-4ad5-a269-21a3c304a8d7"
      },
      "outputs": [
        {
          "output_type": "execute_result",
          "data": {
            "text/plain": [
              "pyspark.context.SparkContext"
            ]
          },
          "metadata": {},
          "execution_count": 4
        }
      ],
      "source": [
        "type(sc)"
      ]
    },
    {
      "cell_type": "code",
      "execution_count": 5,
      "metadata": {
        "colab": {
          "base_uri": "https://localhost:8080/"
        },
        "id": "DBdI0u9EtrsY",
        "outputId": "d1dfeda2-cf39-4be1-ef85-c55f8b60bf07"
      },
      "outputs": [
        {
          "output_type": "execute_result",
          "data": {
            "text/plain": [
              "['PACKAGE_EXTENSIONS',\n",
              " '__class__',\n",
              " '__delattr__',\n",
              " '__dict__',\n",
              " '__dir__',\n",
              " '__doc__',\n",
              " '__enter__',\n",
              " '__eq__',\n",
              " '__exit__',\n",
              " '__format__',\n",
              " '__ge__',\n",
              " '__getattribute__',\n",
              " '__getnewargs__',\n",
              " '__gt__',\n",
              " '__hash__',\n",
              " '__init__',\n",
              " '__init_subclass__',\n",
              " '__le__',\n",
              " '__lt__',\n",
              " '__module__',\n",
              " '__ne__',\n",
              " '__new__',\n",
              " '__reduce__',\n",
              " '__reduce_ex__',\n",
              " '__repr__',\n",
              " '__setattr__',\n",
              " '__sizeof__',\n",
              " '__str__',\n",
              " '__subclasshook__',\n",
              " '__weakref__',\n",
              " '_accumulatorServer',\n",
              " '_active_spark_context',\n",
              " '_assert_on_driver',\n",
              " '_batchSize',\n",
              " '_callsite',\n",
              " '_checkpointFile',\n",
              " '_conf',\n",
              " '_dictToJavaMap',\n",
              " '_do_init',\n",
              " '_encryption_enabled',\n",
              " '_ensure_initialized',\n",
              " '_gateway',\n",
              " '_getJavaStorageLevel',\n",
              " '_initialize_context',\n",
              " '_javaAccumulator',\n",
              " '_jsc',\n",
              " '_jvm',\n",
              " '_lock',\n",
              " '_next_accum_id',\n",
              " '_pickled_broadcast_vars',\n",
              " '_python_includes',\n",
              " '_repr_html_',\n",
              " '_serialize_to_jvm',\n",
              " '_temp_dir',\n",
              " '_unbatched_serializer',\n",
              " 'accumulator',\n",
              " 'addFile',\n",
              " 'addPyFile',\n",
              " 'appName',\n",
              " 'applicationId',\n",
              " 'binaryFiles',\n",
              " 'binaryRecords',\n",
              " 'broadcast',\n",
              " 'cancelAllJobs',\n",
              " 'cancelJobGroup',\n",
              " 'defaultMinPartitions',\n",
              " 'defaultParallelism',\n",
              " 'dump_profiles',\n",
              " 'emptyRDD',\n",
              " 'environment',\n",
              " 'getCheckpointDir',\n",
              " 'getConf',\n",
              " 'getLocalProperty',\n",
              " 'getOrCreate',\n",
              " 'hadoopFile',\n",
              " 'hadoopRDD',\n",
              " 'master',\n",
              " 'newAPIHadoopFile',\n",
              " 'newAPIHadoopRDD',\n",
              " 'parallelize',\n",
              " 'pickleFile',\n",
              " 'profiler_collector',\n",
              " 'pythonExec',\n",
              " 'pythonVer',\n",
              " 'range',\n",
              " 'resources',\n",
              " 'runJob',\n",
              " 'sequenceFile',\n",
              " 'serializer',\n",
              " 'setCheckpointDir',\n",
              " 'setJobDescription',\n",
              " 'setJobGroup',\n",
              " 'setLocalProperty',\n",
              " 'setLogLevel',\n",
              " 'setSystemProperty',\n",
              " 'show_profiles',\n",
              " 'sparkHome',\n",
              " 'sparkUser',\n",
              " 'startTime',\n",
              " 'statusTracker',\n",
              " 'stop',\n",
              " 'textFile',\n",
              " 'uiWebUrl',\n",
              " 'union',\n",
              " 'version',\n",
              " 'wholeTextFiles']"
            ]
          },
          "metadata": {},
          "execution_count": 5
        }
      ],
      "source": [
        "dir(sc)"
      ]
    },
    {
      "cell_type": "markdown",
      "metadata": {
        "id": "F9fwznxEtrsY"
      },
      "source": [
        "## Load data into Spark\n",
        "\n",
        "### RDD\n",
        "\n",
        "Resilient Distributed Dataset\n",
        "\n",
        "- Immutable collection of elements\n",
        "- Partitioned across cluster\n",
        "\n",
        "<img src=\"https://miro.medium.com/max/1152/1*l2MUHFvWfcdiUbh7Y-fM5Q.png\" width=500>\n",
        "\n",
        "Interaction through:\n",
        "\n",
        "- Transformations: functions executed on demand. Produces new RDD.\n",
        "- Actions: Results of RDD computations and transformations.\n",
        "\n",
        "<img src=\"https://miro.medium.com/max/1090/1*2uwvLC1HsWpOsmRw4ZOp2w.png\" width=500>"
      ]
    },
    {
      "cell_type": "code",
      "execution_count": 6,
      "metadata": {
        "id": "vLkku8MntrsZ"
      },
      "outputs": [],
      "source": [
        "data = [1, 2, 3, 4, 5]\n",
        "distData = sc.parallelize(data)"
      ]
    },
    {
      "cell_type": "code",
      "execution_count": 15,
      "metadata": {
        "colab": {
          "base_uri": "https://localhost:8080/"
        },
        "id": "Bl_OJhE1trsZ",
        "outputId": "699fe361-71fa-4805-cbbc-cd46709e2563"
      },
      "outputs": [
        {
          "output_type": "execute_result",
          "data": {
            "text/plain": [
              "['Date,Open,High,Low,Close,AdjClose,Volume',\n",
              " '2019-07-15,248.000000,254.419998,244.860001,253.500000,253.500000,11000100',\n",
              " '2019-07-16,249.300003,253.529999,247.929993,252.380005,252.380005,8149000',\n",
              " '2019-07-17,255.669998,258.309998,253.350006,254.860001,254.860001,9764700',\n",
              " '2019-07-18,255.050003,255.750000,251.889999,253.539993,253.539993,4764500']"
            ]
          },
          "metadata": {},
          "execution_count": 15
        }
      ],
      "source": [
        "tesla_file = '/content/drive/MyDrive/Colab Notebooks/TSLA.csv'\n",
        "tesla_rdd = sc.textFile(tesla_file)\n",
        "tesla_rdd.take(5)"
      ]
    },
    {
      "cell_type": "code",
      "execution_count": 16,
      "metadata": {
        "id": "_8rVX3aNtrsb"
      },
      "outputs": [],
      "source": [
        "csv_rdd = tesla_rdd.map(lambda row: row.split(\",\"))"
      ]
    },
    {
      "cell_type": "code",
      "source": [
        "results = csv_rdd.collect()"
      ],
      "metadata": {
        "id": "5VbW9j3gufWw"
      },
      "execution_count": 17,
      "outputs": []
    },
    {
      "cell_type": "code",
      "source": [
        "results[:4]"
      ],
      "metadata": {
        "colab": {
          "base_uri": "https://localhost:8080/"
        },
        "id": "wOU3729cunZO",
        "outputId": "79d36e69-282d-4a04-fc03-42bfaff45993"
      },
      "execution_count": 18,
      "outputs": [
        {
          "output_type": "execute_result",
          "data": {
            "text/plain": [
              "[['Date', 'Open', 'High', 'Low', 'Close', 'AdjClose', 'Volume'],\n",
              " ['2019-07-15',\n",
              "  '248.000000',\n",
              "  '254.419998',\n",
              "  '244.860001',\n",
              "  '253.500000',\n",
              "  '253.500000',\n",
              "  '11000100'],\n",
              " ['2019-07-16',\n",
              "  '249.300003',\n",
              "  '253.529999',\n",
              "  '247.929993',\n",
              "  '252.380005',\n",
              "  '252.380005',\n",
              "  '8149000'],\n",
              " ['2019-07-17',\n",
              "  '255.669998',\n",
              "  '258.309998',\n",
              "  '253.350006',\n",
              "  '254.860001',\n",
              "  '254.860001',\n",
              "  '9764700']]"
            ]
          },
          "metadata": {},
          "execution_count": 18
        }
      ]
    },
    {
      "cell_type": "markdown",
      "source": [
        "## Spark DataFrames\n",
        "\n",
        "- Immutable distributed collection of data\n",
        "- Data organized into named columns\n",
        "\n",
        "Operations:\n",
        "\n",
        "- Filter\n",
        "- Group by\n",
        "- Compute aggregations\n",
        "- SQL quries"
      ],
      "metadata": {
        "id": "ZuaWIXv0viQI"
      }
    },
    {
      "cell_type": "code",
      "execution_count": 20,
      "metadata": {
        "colab": {
          "base_uri": "https://localhost:8080/"
        },
        "id": "oIxSO4Gmtrsb",
        "outputId": "cb3a61bf-9b86-4b92-8e12-22f40bb51d76"
      },
      "outputs": [
        {
          "output_type": "stream",
          "name": "stderr",
          "text": [
            "/usr/local/lib/python3.7/dist-packages/pyspark/sql/context.py:79: FutureWarning: Deprecated in 3.0.0. Use SparkSession.builder.getOrCreate() instead.\n",
            "  FutureWarning\n"
          ]
        }
      ],
      "source": [
        "from pyspark.sql import SQLContext\n",
        "sqlContext = SQLContext(sc)"
      ]
    },
    {
      "cell_type": "code",
      "execution_count": 21,
      "metadata": {
        "colab": {
          "base_uri": "https://localhost:8080/"
        },
        "id": "VrLVJCJ9trsc",
        "outputId": "6f732206-eefd-48af-b015-9271ef5a6b37"
      },
      "outputs": [
        {
          "output_type": "execute_result",
          "data": {
            "text/plain": [
              "[Row(name='Alice', age=1)]"
            ]
          },
          "metadata": {},
          "execution_count": 21
        }
      ],
      "source": [
        "li = [('Alice', 1)]\n",
        "df = sqlContext.createDataFrame(li, ['name', 'age'])\n",
        "df.collect()"
      ]
    },
    {
      "cell_type": "code",
      "source": [
        "tesla_df = csv_rdd.toDF(['date', 'open', 'high', 'low', 'close', 'adjclose', 'volume'])\n",
        "tesla_df.take(5)"
      ],
      "metadata": {
        "colab": {
          "base_uri": "https://localhost:8080/"
        },
        "id": "WW6GSRa1whhE",
        "outputId": "45f9e0df-acde-474e-902d-eb62f5cf2aa8"
      },
      "execution_count": 22,
      "outputs": [
        {
          "output_type": "execute_result",
          "data": {
            "text/plain": [
              "[Row(date='Date', open='Open', high='High', low='Low', close='Close', adjclose='AdjClose', volume='Volume'),\n",
              " Row(date='2019-07-15', open='248.000000', high='254.419998', low='244.860001', close='253.500000', adjclose='253.500000', volume='11000100'),\n",
              " Row(date='2019-07-16', open='249.300003', high='253.529999', low='247.929993', close='252.380005', adjclose='252.380005', volume='8149000'),\n",
              " Row(date='2019-07-17', open='255.669998', high='258.309998', low='253.350006', close='254.860001', adjclose='254.860001', volume='9764700'),\n",
              " Row(date='2019-07-18', open='255.050003', high='255.750000', low='251.889999', close='253.539993', adjclose='253.539993', volume='4764500')]"
            ]
          },
          "metadata": {},
          "execution_count": 22
        }
      ]
    },
    {
      "cell_type": "code",
      "source": [
        "amazon_file = '/content/drive/MyDrive/Colab Notebooks/AMZN.csv'\n",
        "amazon_df = sqlContext.read.load(\n",
        "    amazon_file,\n",
        "    format='csv',\n",
        "    header='true',\n",
        "    inferSchema='true')"
      ],
      "metadata": {
        "id": "mFuHgfYMw2Nw"
      },
      "execution_count": 23,
      "outputs": []
    },
    {
      "cell_type": "code",
      "source": [
        "amazon_df.take(2)"
      ],
      "metadata": {
        "colab": {
          "base_uri": "https://localhost:8080/"
        },
        "id": "yLLaiY9zxIQY",
        "outputId": "97a05305-0aaf-4af1-8fba-40db407740ef"
      },
      "execution_count": 24,
      "outputs": [
        {
          "output_type": "execute_result",
          "data": {
            "text/plain": [
              "[Row(Date='2019-07-15', Open=2021.400024, High=2022.900024, Low=2001.550049, Close=2020.98999, AdjClose=2020.98999, Volume=2981300),\n",
              " Row(Date='2019-07-16', Open=2010.579956, High=2026.319946, Low=2001.219971, Close=2009.900024, AdjClose=2009.900024, Volume=2618200)]"
            ]
          },
          "metadata": {},
          "execution_count": 24
        }
      ]
    },
    {
      "cell_type": "code",
      "execution_count": 25,
      "metadata": {
        "colab": {
          "base_uri": "https://localhost:8080/"
        },
        "id": "gvj5ZY2ttrse",
        "outputId": "1472b58b-982a-40b2-dc35-07ff5143a175"
      },
      "outputs": [
        {
          "output_type": "stream",
          "name": "stdout",
          "text": [
            "root\n",
            " |-- Date: string (nullable = true)\n",
            " |-- Open: double (nullable = true)\n",
            " |-- High: double (nullable = true)\n",
            " |-- Low: double (nullable = true)\n",
            " |-- Close: double (nullable = true)\n",
            " |-- AdjClose: double (nullable = true)\n",
            " |-- Volume: integer (nullable = true)\n",
            "\n"
          ]
        }
      ],
      "source": [
        "amazon_df.printSchema()"
      ]
    },
    {
      "cell_type": "code",
      "source": [
        "amazon_df.count()"
      ],
      "metadata": {
        "colab": {
          "base_uri": "https://localhost:8080/"
        },
        "id": "mNESB7GjxPqU",
        "outputId": "2a61a137-fc0a-42a9-85f3-243f3c2881ed"
      },
      "execution_count": 26,
      "outputs": [
        {
          "output_type": "execute_result",
          "data": {
            "text/plain": [
              "253"
            ]
          },
          "metadata": {},
          "execution_count": 26
        }
      ]
    },
    {
      "cell_type": "code",
      "source": [
        "amazon_df.show()"
      ],
      "metadata": {
        "colab": {
          "base_uri": "https://localhost:8080/"
        },
        "id": "K5iL1CbBxR8A",
        "outputId": "95767dc4-34fd-44ba-c54c-ac4e9b5822e1"
      },
      "execution_count": 27,
      "outputs": [
        {
          "output_type": "stream",
          "name": "stdout",
          "text": [
            "+----------+-----------+-----------+-----------+-----------+-----------+-------+\n",
            "|      Date|       Open|       High|        Low|      Close|   AdjClose| Volume|\n",
            "+----------+-----------+-----------+-----------+-----------+-----------+-------+\n",
            "|2019-07-15|2021.400024|2022.900024|2001.550049| 2020.98999| 2020.98999|2981300|\n",
            "|2019-07-16|2010.579956|2026.319946|2001.219971|2009.900024|2009.900024|2618200|\n",
            "|2019-07-17|2007.050049|     2012.0|1992.030029|1992.030029|1992.030029|2558800|\n",
            "|2019-07-18| 1980.01001|     1987.5|1951.550049|1977.900024|1977.900024|3504300|\n",
            "|2019-07-19|1991.209961|     1996.0| 1962.22998| 1964.52002| 1964.52002|3185600|\n",
            "|2019-07-22|1971.140015|     1989.0| 1958.26001|1985.630005|1985.630005|2900000|\n",
            "|2019-07-23| 1995.98999|1997.790039|1973.130005| 1994.48999| 1994.48999|2703500|\n",
            "|2019-07-24|1969.300049|2001.300049|1965.869995|2000.810059|2000.810059|2631300|\n",
            "|2019-07-25|     2001.0|2001.199951|1972.719971|1973.819946|1973.819946|4136500|\n",
            "|2019-07-26|     1942.0|1950.900024| 1924.51001|1943.050049|1943.050049|4927100|\n",
            "|2019-07-29|     1930.0| 1932.22998|1890.540039|1912.449951|1912.449951|4493200|\n",
            "|2019-07-30|1891.119995|1909.890015| 1883.47998|1898.530029|1898.530029|2910900|\n",
            "|2019-07-31|1898.109985|1899.550049|1849.439941|1866.780029|1866.780029|4470700|\n",
            "|2019-08-01|1871.719971|1897.920044| 1844.01001|1855.319946|1855.319946|4713300|\n",
            "|2019-08-02|1845.069946|1846.359985| 1808.02002| 1823.23999| 1823.23999|4956200|\n",
            "|2019-08-05|1770.219971|1788.670044|1748.780029|1765.130005|1765.130005|6058200|\n",
            "|2019-08-06| 1792.22998| 1793.77002|1753.400024|1787.829956|1787.829956|5070300|\n",
            "|2019-08-07| 1773.98999|1798.930054|     1757.0|1793.400024|1793.400024|4526900|\n",
            "|2019-08-08|     1806.0| 1834.26001|1798.109985|1832.890015|1832.890015|3701200|\n",
            "|2019-08-09|1828.949951|1831.089966|1802.219971|1807.579956|1807.579956|2879800|\n",
            "+----------+-----------+-----------+-----------+-----------+-----------+-------+\n",
            "only showing top 20 rows\n",
            "\n"
          ]
        }
      ]
    },
    {
      "cell_type": "code",
      "execution_count": 29,
      "metadata": {
        "colab": {
          "base_uri": "https://localhost:8080/",
          "height": 206
        },
        "id": "N95QHEyLtrse",
        "outputId": "76d9a20a-e1c2-4fc4-e05a-bc457fcf8e6a"
      },
      "outputs": [
        {
          "output_type": "execute_result",
          "data": {
            "text/html": [
              "\n",
              "  <div id=\"df-b266f0ec-2497-48d8-bbcd-c330f05259d9\">\n",
              "    <div class=\"colab-df-container\">\n",
              "      <div>\n",
              "<style scoped>\n",
              "    .dataframe tbody tr th:only-of-type {\n",
              "        vertical-align: middle;\n",
              "    }\n",
              "\n",
              "    .dataframe tbody tr th {\n",
              "        vertical-align: top;\n",
              "    }\n",
              "\n",
              "    .dataframe thead th {\n",
              "        text-align: right;\n",
              "    }\n",
              "</style>\n",
              "<table border=\"1\" class=\"dataframe\">\n",
              "  <thead>\n",
              "    <tr style=\"text-align: right;\">\n",
              "      <th></th>\n",
              "      <th>Date</th>\n",
              "      <th>Open</th>\n",
              "      <th>High</th>\n",
              "      <th>Low</th>\n",
              "      <th>Close</th>\n",
              "      <th>AdjClose</th>\n",
              "      <th>Volume</th>\n",
              "    </tr>\n",
              "  </thead>\n",
              "  <tbody>\n",
              "    <tr>\n",
              "      <th>0</th>\n",
              "      <td>2019-07-15</td>\n",
              "      <td>2021.400024</td>\n",
              "      <td>2022.900024</td>\n",
              "      <td>2001.550049</td>\n",
              "      <td>2020.989990</td>\n",
              "      <td>2020.989990</td>\n",
              "      <td>2981300</td>\n",
              "    </tr>\n",
              "    <tr>\n",
              "      <th>1</th>\n",
              "      <td>2019-07-16</td>\n",
              "      <td>2010.579956</td>\n",
              "      <td>2026.319946</td>\n",
              "      <td>2001.219971</td>\n",
              "      <td>2009.900024</td>\n",
              "      <td>2009.900024</td>\n",
              "      <td>2618200</td>\n",
              "    </tr>\n",
              "    <tr>\n",
              "      <th>2</th>\n",
              "      <td>2019-07-17</td>\n",
              "      <td>2007.050049</td>\n",
              "      <td>2012.000000</td>\n",
              "      <td>1992.030029</td>\n",
              "      <td>1992.030029</td>\n",
              "      <td>1992.030029</td>\n",
              "      <td>2558800</td>\n",
              "    </tr>\n",
              "    <tr>\n",
              "      <th>3</th>\n",
              "      <td>2019-07-18</td>\n",
              "      <td>1980.010010</td>\n",
              "      <td>1987.500000</td>\n",
              "      <td>1951.550049</td>\n",
              "      <td>1977.900024</td>\n",
              "      <td>1977.900024</td>\n",
              "      <td>3504300</td>\n",
              "    </tr>\n",
              "    <tr>\n",
              "      <th>4</th>\n",
              "      <td>2019-07-19</td>\n",
              "      <td>1991.209961</td>\n",
              "      <td>1996.000000</td>\n",
              "      <td>1962.229980</td>\n",
              "      <td>1964.520020</td>\n",
              "      <td>1964.520020</td>\n",
              "      <td>3185600</td>\n",
              "    </tr>\n",
              "  </tbody>\n",
              "</table>\n",
              "</div>\n",
              "      <button class=\"colab-df-convert\" onclick=\"convertToInteractive('df-b266f0ec-2497-48d8-bbcd-c330f05259d9')\"\n",
              "              title=\"Convert this dataframe to an interactive table.\"\n",
              "              style=\"display:none;\">\n",
              "        \n",
              "  <svg xmlns=\"http://www.w3.org/2000/svg\" height=\"24px\"viewBox=\"0 0 24 24\"\n",
              "       width=\"24px\">\n",
              "    <path d=\"M0 0h24v24H0V0z\" fill=\"none\"/>\n",
              "    <path d=\"M18.56 5.44l.94 2.06.94-2.06 2.06-.94-2.06-.94-.94-2.06-.94 2.06-2.06.94zm-11 1L8.5 8.5l.94-2.06 2.06-.94-2.06-.94L8.5 2.5l-.94 2.06-2.06.94zm10 10l.94 2.06.94-2.06 2.06-.94-2.06-.94-.94-2.06-.94 2.06-2.06.94z\"/><path d=\"M17.41 7.96l-1.37-1.37c-.4-.4-.92-.59-1.43-.59-.52 0-1.04.2-1.43.59L10.3 9.45l-7.72 7.72c-.78.78-.78 2.05 0 2.83L4 21.41c.39.39.9.59 1.41.59.51 0 1.02-.2 1.41-.59l7.78-7.78 2.81-2.81c.8-.78.8-2.07 0-2.86zM5.41 20L4 18.59l7.72-7.72 1.47 1.35L5.41 20z\"/>\n",
              "  </svg>\n",
              "      </button>\n",
              "      \n",
              "  <style>\n",
              "    .colab-df-container {\n",
              "      display:flex;\n",
              "      flex-wrap:wrap;\n",
              "      gap: 12px;\n",
              "    }\n",
              "\n",
              "    .colab-df-convert {\n",
              "      background-color: #E8F0FE;\n",
              "      border: none;\n",
              "      border-radius: 50%;\n",
              "      cursor: pointer;\n",
              "      display: none;\n",
              "      fill: #1967D2;\n",
              "      height: 32px;\n",
              "      padding: 0 0 0 0;\n",
              "      width: 32px;\n",
              "    }\n",
              "\n",
              "    .colab-df-convert:hover {\n",
              "      background-color: #E2EBFA;\n",
              "      box-shadow: 0px 1px 2px rgba(60, 64, 67, 0.3), 0px 1px 3px 1px rgba(60, 64, 67, 0.15);\n",
              "      fill: #174EA6;\n",
              "    }\n",
              "\n",
              "    [theme=dark] .colab-df-convert {\n",
              "      background-color: #3B4455;\n",
              "      fill: #D2E3FC;\n",
              "    }\n",
              "\n",
              "    [theme=dark] .colab-df-convert:hover {\n",
              "      background-color: #434B5C;\n",
              "      box-shadow: 0px 1px 3px 1px rgba(0, 0, 0, 0.15);\n",
              "      filter: drop-shadow(0px 1px 2px rgba(0, 0, 0, 0.3));\n",
              "      fill: #FFFFFF;\n",
              "    }\n",
              "  </style>\n",
              "\n",
              "      <script>\n",
              "        const buttonEl =\n",
              "          document.querySelector('#df-b266f0ec-2497-48d8-bbcd-c330f05259d9 button.colab-df-convert');\n",
              "        buttonEl.style.display =\n",
              "          google.colab.kernel.accessAllowed ? 'block' : 'none';\n",
              "\n",
              "        async function convertToInteractive(key) {\n",
              "          const element = document.querySelector('#df-b266f0ec-2497-48d8-bbcd-c330f05259d9');\n",
              "          const dataTable =\n",
              "            await google.colab.kernel.invokeFunction('convertToInteractive',\n",
              "                                                     [key], {});\n",
              "          if (!dataTable) return;\n",
              "\n",
              "          const docLinkHtml = 'Like what you see? Visit the ' +\n",
              "            '<a target=\"_blank\" href=https://colab.research.google.com/notebooks/data_table.ipynb>data table notebook</a>'\n",
              "            + ' to learn more about interactive tables.';\n",
              "          element.innerHTML = '';\n",
              "          dataTable['output_type'] = 'display_data';\n",
              "          await google.colab.output.renderOutput(dataTable, element);\n",
              "          const docLink = document.createElement('div');\n",
              "          docLink.innerHTML = docLinkHtml;\n",
              "          element.appendChild(docLink);\n",
              "        }\n",
              "      </script>\n",
              "    </div>\n",
              "  </div>\n",
              "  "
            ],
            "text/plain": [
              "         Date         Open         High  ...        Close     AdjClose   Volume\n",
              "0  2019-07-15  2021.400024  2022.900024  ...  2020.989990  2020.989990  2981300\n",
              "1  2019-07-16  2010.579956  2026.319946  ...  2009.900024  2009.900024  2618200\n",
              "2  2019-07-17  2007.050049  2012.000000  ...  1992.030029  1992.030029  2558800\n",
              "3  2019-07-18  1980.010010  1987.500000  ...  1977.900024  1977.900024  3504300\n",
              "4  2019-07-19  1991.209961  1996.000000  ...  1964.520020  1964.520020  3185600\n",
              "\n",
              "[5 rows x 7 columns]"
            ]
          },
          "metadata": {},
          "execution_count": 29
        }
      ],
      "source": [
        "import pandas\n",
        "amazon_df.toPandas().head(5)"
      ]
    },
    {
      "cell_type": "markdown",
      "source": [
        "## DataFrames Operations"
      ],
      "metadata": {
        "id": "0yQV8z6tzFDw"
      }
    },
    {
      "cell_type": "code",
      "source": [
        "google_file = '/content/drive/MyDrive/Colab Notebooks/GOOG.csv'\n",
        "google_df = sqlContext.read.load(\n",
        "    google_file,\n",
        "    format='csv',\n",
        "    header='true',\n",
        "    inferSchema='true')"
      ],
      "metadata": {
        "id": "kNyQLxuYxZrn"
      },
      "execution_count": 30,
      "outputs": []
    },
    {
      "cell_type": "code",
      "source": [
        "google_df.select(\"Date\", \"Close\").show()"
      ],
      "metadata": {
        "colab": {
          "base_uri": "https://localhost:8080/"
        },
        "id": "n61dxAWBxZuH",
        "outputId": "2716fa54-7241-415d-cba2-0a3e5ab35864"
      },
      "execution_count": 31,
      "outputs": [
        {
          "output_type": "stream",
          "name": "stdout",
          "text": [
            "+----------+-----------+\n",
            "|      Date|      Close|\n",
            "+----------+-----------+\n",
            "|2019-07-15|1150.339966|\n",
            "|2019-07-16|1153.579956|\n",
            "|2019-07-17|1146.349976|\n",
            "|2019-07-18|1146.329956|\n",
            "|2019-07-19|1130.099976|\n",
            "|2019-07-22|1138.069946|\n",
            "|2019-07-23|1146.209961|\n",
            "|2019-07-24|1137.810059|\n",
            "|2019-07-25|1132.119995|\n",
            "|2019-07-26|1250.410034|\n",
            "|2019-07-29|1239.410034|\n",
            "|2019-07-30|1225.140015|\n",
            "|2019-07-31|1216.680054|\n",
            "|2019-08-01| 1209.01001|\n",
            "|2019-08-02| 1193.98999|\n",
            "|2019-08-05|1152.319946|\n",
            "|2019-08-06|1169.949951|\n",
            "|2019-08-07| 1173.98999|\n",
            "|2019-08-08|1204.800049|\n",
            "|2019-08-09| 1188.01001|\n",
            "+----------+-----------+\n",
            "only showing top 20 rows\n",
            "\n"
          ]
        }
      ]
    },
    {
      "cell_type": "code",
      "source": [
        "from pyspark.sql.functions import year, month, dayofmonth"
      ],
      "metadata": {
        "id": "tD_e3Z6LxZwk"
      },
      "execution_count": 33,
      "outputs": []
    },
    {
      "cell_type": "code",
      "source": [
        "google_df.select(year(\"Date\").alias(\"yr\"), \"Close\").show(5)"
      ],
      "metadata": {
        "colab": {
          "base_uri": "https://localhost:8080/"
        },
        "id": "8zgl8zTExZzC",
        "outputId": "57ffc6dd-6009-4322-af42-d6be572d0b67"
      },
      "execution_count": 35,
      "outputs": [
        {
          "output_type": "stream",
          "name": "stdout",
          "text": [
            "+----+-----------+\n",
            "|  yr|      Close|\n",
            "+----+-----------+\n",
            "|2019|1150.339966|\n",
            "|2019|1153.579956|\n",
            "|2019|1146.349976|\n",
            "|2019|1146.329956|\n",
            "|2019|1130.099976|\n",
            "+----+-----------+\n",
            "only showing top 5 rows\n",
            "\n"
          ]
        }
      ]
    },
    {
      "cell_type": "code",
      "source": [
        "google_df.select(year(\"Date\").alias(\"year\"), \"AdjClose\").groupby(\"year\").avg(\"AdjClose\").sort(\"year\").show()"
      ],
      "metadata": {
        "colab": {
          "base_uri": "https://localhost:8080/"
        },
        "id": "mVi1WGZHxZ2s",
        "outputId": "5a499a43-ca34-4901-f1de-568458c7b21c"
      },
      "execution_count": 36,
      "outputs": [
        {
          "output_type": "stream",
          "name": "stdout",
          "text": [
            "+----+------------------+\n",
            "|year|     avg(AdjClose)|\n",
            "+----+------------------+\n",
            "|2019|1245.3833654621849|\n",
            "|2020|1362.8286906865671|\n",
            "+----+------------------+\n",
            "\n"
          ]
        }
      ]
    },
    {
      "cell_type": "code",
      "source": [
        "amazon_df.select(year(\"Date\").alias(\"year\"), month(\"Date\").alias(\"month\"), \"Low\")\\\n",
        "    .groupby(\"year\", \"month\")\\\n",
        "    .avg(\"Low\")\\\n",
        "    .sort(\"year\", \"month\")\\\n",
        "    .show()"
      ],
      "metadata": {
        "colab": {
          "base_uri": "https://localhost:8080/"
        },
        "id": "4p-EzFrN40yu",
        "outputId": "bb84e9ec-4c4c-4028-d31f-553f3491cd01"
      },
      "execution_count": 39,
      "outputs": [
        {
          "output_type": "stream",
          "name": "stdout",
          "text": [
            "+----+-----+------------------+\n",
            "|year|month|          avg(Low)|\n",
            "+----+-----+------------------+\n",
            "|2019|    7|1948.1946176153847|\n",
            "|2019|    8|1778.2340920454546|\n",
            "|2019|    9|     1784.68599235|\n",
            "|2019|   10|1736.6047840869564|\n",
            "|2019|   11|1764.3005004499998|\n",
            "|2019|   12|1773.8466622380954|\n",
            "|2020|    1| 1870.354288809524|\n",
            "|2020|    2|2045.0563194210524|\n",
            "|2020|    3|1825.1590964090908|\n",
            "|2020|    4|2185.9347679523808|\n",
            "|2020|    5|     2364.48549805|\n",
            "|2020|    6| 2579.099553909091|\n",
            "|2020|    7|2976.1799859999996|\n",
            "+----+-----+------------------+\n",
            "\n"
          ]
        }
      ]
    },
    {
      "cell_type": "markdown",
      "source": [
        "### Spark Optimization and Physical Plan\n",
        "\n",
        "<img src=\"https://databricks.com/wp-content/uploads/2015/04/Screen-Shot-2015-04-12-at-8.41.26-AM.png\" width=600>"
      ],
      "metadata": {
        "id": "h7w2kPs57feH"
      }
    },
    {
      "cell_type": "code",
      "source": [
        "amazon_df.select(year(\"Date\").alias(\"year\"), month(\"Date\").alias(\"month\"), \"Low\")\\\n",
        "    .groupby(\"year\", \"month\")\\\n",
        "    .avg(\"Low\")\\\n",
        "    .sort(\"year\", \"month\")\\\n",
        "    .explain()"
      ],
      "metadata": {
        "colab": {
          "base_uri": "https://localhost:8080/"
        },
        "id": "5Yo-OxH3602i",
        "outputId": "e32049ff-1498-4a4c-9770-5a1f179d9587"
      },
      "execution_count": 40,
      "outputs": [
        {
          "output_type": "stream",
          "name": "stdout",
          "text": [
            "== Physical Plan ==\n",
            "AdaptiveSparkPlan isFinalPlan=false\n",
            "+- Sort [year#317 ASC NULLS FIRST, month#318 ASC NULLS FIRST], true, 0\n",
            "   +- Exchange rangepartitioning(year#317 ASC NULLS FIRST, month#318 ASC NULLS FIRST, 200), ENSURE_REQUIREMENTS, [id=#325]\n",
            "      +- HashAggregate(keys=[year#317, month#318], functions=[avg(Low#37)])\n",
            "         +- Exchange hashpartitioning(year#317, month#318, 200), ENSURE_REQUIREMENTS, [id=#322]\n",
            "            +- HashAggregate(keys=[year#317, month#318], functions=[partial_avg(Low#37)])\n",
            "               +- Project [year(cast(Date#34 as date)) AS year#317, month(cast(Date#34 as date)) AS month#318, Low#37]\n",
            "                  +- FileScan csv [Date#34,Low#37] Batched: false, DataFilters: [], Format: CSV, Location: InMemoryFileIndex(1 paths)[file:/content/drive/MyDrive/Colab Notebooks/AMZN.csv], PartitionFilters: [], PushedFilters: [], ReadSchema: struct<Date:string,Low:double>\n",
            "\n",
            "\n"
          ]
        }
      ]
    },
    {
      "cell_type": "markdown",
      "source": [
        "## Spark SQL"
      ],
      "metadata": {
        "id": "pPakogfK6Zof"
      }
    },
    {
      "cell_type": "code",
      "source": [
        "amazon_df.createOrReplaceTempView(\"amazon_stocks\")\n",
        "google_df.createOrReplaceTempView(\"google_stocks\")\n",
        "tesla_df.createOrReplaceTempView(\"tesla_stocks\")"
      ],
      "metadata": {
        "id": "14v5KJDQ4007"
      },
      "execution_count": 43,
      "outputs": []
    },
    {
      "cell_type": "code",
      "source": [
        "sqlContext.sql(\"SELECT * FROM amazon_stocks\").show(5)"
      ],
      "metadata": {
        "colab": {
          "base_uri": "https://localhost:8080/"
        },
        "id": "B_38hMgo403R",
        "outputId": "59b6a25d-30eb-49d2-dd87-74f20063f494"
      },
      "execution_count": 44,
      "outputs": [
        {
          "output_type": "stream",
          "name": "stdout",
          "text": [
            "+----------+-----------+-----------+-----------+-----------+-----------+-------+\n",
            "|      Date|       Open|       High|        Low|      Close|   AdjClose| Volume|\n",
            "+----------+-----------+-----------+-----------+-----------+-----------+-------+\n",
            "|2019-07-15|2021.400024|2022.900024|2001.550049| 2020.98999| 2020.98999|2981300|\n",
            "|2019-07-16|2010.579956|2026.319946|2001.219971|2009.900024|2009.900024|2618200|\n",
            "|2019-07-17|2007.050049|     2012.0|1992.030029|1992.030029|1992.030029|2558800|\n",
            "|2019-07-18| 1980.01001|     1987.5|1951.550049|1977.900024|1977.900024|3504300|\n",
            "|2019-07-19|1991.209961|     1996.0| 1962.22998| 1964.52002| 1964.52002|3185600|\n",
            "+----------+-----------+-----------+-----------+-----------+-----------+-------+\n",
            "only showing top 5 rows\n",
            "\n"
          ]
        }
      ]
    },
    {
      "cell_type": "code",
      "source": [
        "sqlContext.sql(\"\"\"\n",
        "SELECT\n",
        "    YEAR(amazon_stocks.Date) as yr,\n",
        "    MONTH(amazon_stocks.Date) as mo,\n",
        "    AVG(amazon_stocks.AdjClose)\n",
        "FROM amazon_stocks\n",
        "GROUP BY\n",
        "    YEAR(amazon_stocks.Date),\n",
        "    MONTH(amazon_stocks.Date)\n",
        "\"\"\").show()"
      ],
      "metadata": {
        "colab": {
          "base_uri": "https://localhost:8080/"
        },
        "id": "elk0a4436AKY",
        "outputId": "969eef43-0692-4eb2-82bb-ca0120c963f5"
      },
      "execution_count": 45,
      "outputs": [
        {
          "output_type": "stream",
          "name": "stdout",
          "text": [
            "+----+---+------------------+\n",
            "|  yr| mo|     avg(AdjClose)|\n",
            "+----+---+------------------+\n",
            "|2019| 10|1752.3317498695653|\n",
            "|2020|  6|      2613.5454545|\n",
            "|2020|  3|1872.3104358636365|\n",
            "|2019|  8|1793.6027220909093|\n",
            "|2020|  4|2228.7052408571426|\n",
            "|2020|  1|1884.2376128571425|\n",
            "|2019|  9|     1799.12099615|\n",
            "|2019| 12|1785.7728446190476|\n",
            "|2020|  7| 3053.100016222222|\n",
            "|2020|  2|2066.1752672631574|\n",
            "|2019|  7|1964.6846265384618|\n",
            "|2019| 11|      1774.2939941|\n",
            "|2020|  5|2394.1840209499996|\n",
            "+----+---+------------------+\n",
            "\n"
          ]
        }
      ]
    },
    {
      "cell_type": "code",
      "source": [
        "sqlContext.sql(\"\"\"\n",
        "SELECT\n",
        "    google_stocks.Date,\n",
        "    google_stocks.Open,\n",
        "    google_stocks.Close,\n",
        "    ABS(google_stocks.Close - google_stocks.Open) as spydif\n",
        "FROM google_stocks\n",
        "WHERE\n",
        "    ABS(google_stocks.Close - google_stocks.Open) > 4\n",
        "\"\"\").show()"
      ],
      "metadata": {
        "colab": {
          "base_uri": "https://localhost:8080/"
        },
        "id": "OYI56FzF6AMr",
        "outputId": "d8aac219-f7a0-4f4d-d53a-4752cff65ba1"
      },
      "execution_count": 46,
      "outputs": [
        {
          "output_type": "stream",
          "name": "stdout",
          "text": [
            "+----------+-----------+-----------+------------------+\n",
            "|      Date|       Open|      Close|            spydif|\n",
            "+----------+-----------+-----------+------------------+\n",
            "|2019-07-16|     1146.0|1153.579956| 7.579956000000038|\n",
            "|2019-07-17|1150.969971|1146.349976| 4.619995000000017|\n",
            "|2019-07-18| 1141.73999|1146.329956| 4.589966000000004|\n",
            "|2019-07-19|1148.189941|1130.099976| 18.08996500000012|\n",
            "|2019-07-22|1133.449951|1138.069946| 4.619995000000017|\n",
            "|2019-07-24|1131.900024|1137.810059|  5.91003499999988|\n",
            "|2019-07-25|1137.819946|1132.119995|5.6999510000000555|\n",
            "|2019-07-26|1224.040039|1250.410034|26.369995000000017|\n",
            "|2019-07-31|     1223.0|1216.680054| 6.319946000000073|\n",
            "|2019-08-01|1214.030029| 1209.01001|5.0200190000000475|\n",
            "|2019-08-02| 1200.73999| 1193.98999|              6.75|\n",
            "|2019-08-05|1170.040039|1152.319946|17.720092999999906|\n",
            "|2019-08-06|1163.310059|1169.949951| 6.639892000000145|\n",
            "|2019-08-07|     1156.0| 1173.98999|17.989990000000034|\n",
            "|2019-08-08|1182.829956|1204.800049|21.970092999999906|\n",
            "|2019-08-09| 1197.98999| 1188.01001| 9.979980000000069|\n",
            "|2019-08-12|1179.209961|1174.709961|               4.5|\n",
            "|2019-08-13|1171.459961| 1197.27002| 25.81005899999991|\n",
            "|2019-08-14|1176.310059|1164.290039|12.020019999999931|\n",
            "|2019-08-19|1190.089966|1198.449951| 8.359985000000052|\n",
            "+----------+-----------+-----------+------------------+\n",
            "only showing top 20 rows\n",
            "\n"
          ]
        }
      ]
    },
    {
      "cell_type": "code",
      "source": [
        "sqlContext.sql(\"\"\"\n",
        "SELECT\n",
        "    YEAR(google_stocks.Date) as year,\n",
        "    MAX(google_stocks.AdjClose),\n",
        "    MIN(google_stocks.AdjClose)\n",
        "FROM google_stocks\n",
        "GROUP BY\n",
        "    YEAR(google_stocks.Date)\n",
        "\"\"\").show()\n"
      ],
      "metadata": {
        "colab": {
          "base_uri": "https://localhost:8080/"
        },
        "id": "OUO-AeQA8jIZ",
        "outputId": "a43cc125-2d50-4827-b08d-f69d8411d9b3"
      },
      "execution_count": 52,
      "outputs": [
        {
          "output_type": "stream",
          "name": "stdout",
          "text": [
            "+----+-------------+-------------+\n",
            "|year|max(AdjClose)|min(AdjClose)|\n",
            "+----+-------------+-------------+\n",
            "|2019|  1361.170044|  1130.099976|\n",
            "|2020|   1541.73999|  1056.619995|\n",
            "+----+-------------+-------------+\n",
            "\n"
          ]
        }
      ]
    },
    {
      "cell_type": "code",
      "source": [
        "joinclose=sqlContext.sql(\"\"\"\n",
        "SELECT\n",
        "    tesla_stocks.Date,\n",
        "    tesla_stocks.AdjClose as teslaclose,\n",
        "    amazon_stocks.AdjClose as amazonclose,\n",
        "    google_stocks.AdjClose as googleclose\n",
        "FROM tesla_stocks\n",
        "INNER JOIN google_stocks\n",
        "    ON tesla_stocks.Date = google_stocks.Date\n",
        "INNER JOIN amazon_stocks\n",
        "    ON tesla_stocks.Date = amazon_stocks.Date\n",
        "\"\"\").cache()\n",
        "\n",
        "joinclose.show()"
      ],
      "metadata": {
        "colab": {
          "base_uri": "https://localhost:8080/"
        },
        "id": "iEZzuM1S8jKz",
        "outputId": "0d866a3f-0dbf-48dc-c25e-7f1b2c751970"
      },
      "execution_count": 54,
      "outputs": [
        {
          "output_type": "stream",
          "name": "stdout",
          "text": [
            "+----------+----------+-----------+-----------+\n",
            "|      Date|teslaclose|amazonclose|googleclose|\n",
            "+----------+----------+-----------+-----------+\n",
            "|2019-07-15|253.500000| 2020.98999|1150.339966|\n",
            "|2019-07-16|252.380005|2009.900024|1153.579956|\n",
            "|2019-07-17|254.860001|1992.030029|1146.349976|\n",
            "|2019-07-18|253.539993|1977.900024|1146.329956|\n",
            "|2019-07-19|258.179993| 1964.52002|1130.099976|\n",
            "|2019-07-22|255.679993|1985.630005|1138.069946|\n",
            "|2019-07-23|260.170013| 1994.48999|1146.209961|\n",
            "|2019-07-24|264.880005|2000.810059|1137.810059|\n",
            "|2019-07-25|228.820007|1973.819946|1132.119995|\n",
            "|2019-07-26|228.039993|1943.050049|1250.410034|\n",
            "|2019-07-29|235.770004|1912.449951|1239.410034|\n",
            "|2019-07-30|242.259995|1898.530029|1225.140015|\n",
            "|2019-07-31|241.610001|1866.780029|1216.680054|\n",
            "|2019-08-01|233.850006|1855.319946| 1209.01001|\n",
            "|2019-08-02|234.339996| 1823.23999| 1193.98999|\n",
            "|2019-08-05|228.320007|1765.130005|1152.319946|\n",
            "|2019-08-06|230.750000|1787.829956|1169.949951|\n",
            "|2019-08-07|233.419998|1793.400024| 1173.98999|\n",
            "|2019-08-08|238.300003|1832.890015|1204.800049|\n",
            "|2019-08-09|235.009995|1807.579956| 1188.01001|\n",
            "+----------+----------+-----------+-----------+\n",
            "only showing top 20 rows\n",
            "\n"
          ]
        }
      ]
    },
    {
      "cell_type": "code",
      "source": [
        "joinclose.createOrReplaceTempView(\"joinclose\")"
      ],
      "metadata": {
        "id": "2PM4JaEsCFbt"
      },
      "execution_count": 56,
      "outputs": []
    },
    {
      "cell_type": "code",
      "source": [
        "sqlContext.sql(\"\"\"\n",
        "SELECT\n",
        "    YEAR(joinclose.Date) as year,\n",
        "    AVG(joinclose.teslaclose) as avgteslaclose,\n",
        "    AVG(joinclose.amazonclose) as avgamazonclose,\n",
        "    AVG(joinclose.googleclose) as avggoogleclose\n",
        "FROM joinclose\n",
        "GROUP BY YEAR(joinclose.Date)\n",
        "ORDER BY YEAR(joinclose.Date)\n",
        "\"\"\").show()"
      ],
      "metadata": {
        "colab": {
          "base_uri": "https://localhost:8080/"
        },
        "id": "Hdp_ZvYwCFec",
        "outputId": "28a3d97c-b6fe-4866-f66f-e19d4628bed7"
      },
      "execution_count": 57,
      "outputs": [
        {
          "output_type": "stream",
          "name": "stdout",
          "text": [
            "+----+------------------+------------------+------------------+\n",
            "|year|     avgteslaclose|    avgamazonclose|    avggoogleclose|\n",
            "+----+------------------+------------------+------------------+\n",
            "|2019|283.62126070588243|1800.6161329411755|1245.3833654621849|\n",
            "|2020| 761.8206739179104|2236.4144787985074| 1362.828690686567|\n",
            "+----+------------------+------------------+------------------+\n",
            "\n"
          ]
        }
      ]
    },
    {
      "cell_type": "markdown",
      "source": [
        "## Save Spark DataFrames\n",
        "\n",
        "### Parquet Files\n",
        "\n",
        "<img src=\"https://i.ytimg.com/vi/1j8SdS7s_NY/maxresdefault.jpg\" width=500>"
      ],
      "metadata": {
        "id": "hzHkO5Y4DDX4"
      }
    },
    {
      "cell_type": "code",
      "source": [
        "joinclose.write.format(\"parquet\").save(\"joinstocks.parquet\")"
      ],
      "metadata": {
        "id": "SDsclcP6CFgA"
      },
      "execution_count": 58,
      "outputs": []
    },
    {
      "cell_type": "code",
      "source": [
        "final_df = sqlContext.read.parquet(\"joinstocks.parquet\")\n",
        "final_df.show()"
      ],
      "metadata": {
        "colab": {
          "base_uri": "https://localhost:8080/"
        },
        "id": "adXVcwAR8jM5",
        "outputId": "7bb0b1cc-3466-4278-9411-617c61b28c25"
      },
      "execution_count": 59,
      "outputs": [
        {
          "output_type": "stream",
          "name": "stdout",
          "text": [
            "+----------+----------+-----------+-----------+\n",
            "|      Date|teslaclose|amazonclose|googleclose|\n",
            "+----------+----------+-----------+-----------+\n",
            "|2020-01-15|518.500000| 1862.02002|1439.199951|\n",
            "|2020-01-16|513.489990|1877.939941|1451.699951|\n",
            "|2020-01-17|510.500000|1864.719971|1480.390015|\n",
            "|2020-01-21|547.200012|     1892.0|1484.400024|\n",
            "|2020-01-22|569.559998|1887.459961|1485.949951|\n",
            "|2020-01-23|572.200012|1884.579956|1486.650024|\n",
            "|2020-01-24|564.820007|1861.640015|1466.709961|\n",
            "|2020-01-27|558.020020|1828.339966|1433.900024|\n",
            "|2020-01-28|566.900024|    1853.25|1452.560059|\n",
            "|2020-01-29|580.989990|     1858.0|1458.630005|\n",
            "|2020-01-30|640.809998|1870.680054|1455.839966|\n",
            "|2020-01-31|650.570007|2008.719971| 1434.22998|\n",
            "|2020-02-03|780.000000|2004.199951|1485.939941|\n",
            "|2020-02-04|887.059998|2049.669922|1447.069946|\n",
            "|2020-02-05|734.700012|2039.869995| 1448.22998|\n",
            "|2020-02-06|748.960022| 2050.22998| 1476.22998|\n",
            "|2020-02-07|748.070007|2079.280029| 1479.22998|\n",
            "|2020-02-10|771.280029|2133.909912|1508.680054|\n",
            "|2020-02-11|774.380005|2150.800049|1508.790039|\n",
            "|2020-02-12|767.289978|     2160.0| 1518.27002|\n",
            "+----------+----------+-----------+-----------+\n",
            "only showing top 20 rows\n",
            "\n"
          ]
        }
      ]
    }
  ],
  "metadata": {
    "kernelspec": {
      "display_name": "Python 3",
      "language": "python",
      "name": "python3"
    },
    "language_info": {
      "codemirror_mode": {
        "name": "ipython",
        "version": 3
      },
      "file_extension": ".py",
      "mimetype": "text/x-python",
      "name": "python",
      "nbconvert_exporter": "python",
      "pygments_lexer": "ipython3",
      "version": "3.8.4"
    },
    "colab": {
      "name": "SparkSQL.ipynb",
      "provenance": [],
      "toc_visible": true
    }
  },
  "nbformat": 4,
  "nbformat_minor": 0
}